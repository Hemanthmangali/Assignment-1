{
 "cells": [
  {
   "cell_type": "markdown",
   "id": "79409aa8-c92e-429d-8017-284258a822b9",
   "metadata": {},
   "source": [
    "## 1.write a program to accept the percentage form the user"
   ]
  },
  {
   "cell_type": "code",
   "execution_count": 1,
   "id": "448bdc0b-ee2c-4a26-861d-3da6e92a51fc",
   "metadata": {},
   "outputs": [
    {
     "name": "stdin",
     "output_type": "stream",
     "text": [
      "Enter a number :  85\n"
     ]
    },
    {
     "name": "stdout",
     "output_type": "stream",
     "text": [
      "grade B\n"
     ]
    }
   ],
   "source": [
    "marks=int(input(\"Enter a number : \"))\n",
    "if marks >90 :\n",
    "    print(\"grade A\")\n",
    "elif marks >80 and marks <=90 :\n",
    "    print(\"grade B\")\n",
    "elif marks >=60 and marks <=80 :\n",
    "    print(\"grade C\")\n",
    "elif marks <60 :\n",
    "    print(\"grade D\")\n",
    "        "
   ]
  },
  {
   "cell_type": "code",
   "execution_count": null,
   "id": "ca05f056-8d22-4eb7-84a3-307fb39af9fb",
   "metadata": {},
   "outputs": [],
   "source": []
  },
  {
   "cell_type": "code",
   "execution_count": null,
   "id": "850b13bf-66f2-4e85-b145-f57a6cca9f61",
   "metadata": {},
   "outputs": [],
   "source": []
  },
  {
   "cell_type": "markdown",
   "id": "c7b3212a-b415-4911-921c-54fb5a7ed819",
   "metadata": {},
   "source": [
    "## 2.write a program to accept the cost price of the bike"
   ]
  },
  {
   "cell_type": "code",
   "execution_count": 2,
   "id": "bc06b719-b00a-4410-aec2-d92291ffd845",
   "metadata": {},
   "outputs": [
    {
     "name": "stdin",
     "output_type": "stream",
     "text": [
      "Enter a number :  90000\n"
     ]
    },
    {
     "name": "stdout",
     "output_type": "stream",
     "text": [
      "tax is 10%\n"
     ]
    }
   ],
   "source": [
    "cost_price=int(input(\"Enter a number : \"))\n",
    "if cost_price >100000 :\n",
    "    print(\"tax is 15%\")\n",
    "elif cost_price >50000 and cost_price <=100000 :\n",
    "    print(\"tax is 10%\")\n",
    "elif cost_price <=50000 :\n",
    "    print(\"tax is 5%\")\n",
    "       "
   ]
  },
  {
   "cell_type": "code",
   "execution_count": null,
   "id": "94ee8fef-3456-49d5-8930-696d9cada0b6",
   "metadata": {},
   "outputs": [],
   "source": []
  },
  {
   "cell_type": "code",
   "execution_count": null,
   "id": "b868f1f6-5c33-46a7-ad82-98fd001a50f8",
   "metadata": {},
   "outputs": [],
   "source": []
  },
  {
   "cell_type": "markdown",
   "id": "eb07dc91-b9ed-426f-ab92-f7308b64c1d4",
   "metadata": {},
   "source": [
    "## 3.Accept city from the user"
   ]
  },
  {
   "cell_type": "code",
   "execution_count": 4,
   "id": "032c80c1-8770-4642-8220-fb65de1f785c",
   "metadata": {},
   "outputs": [
    {
     "name": "stdin",
     "output_type": "stream",
     "text": [
      "Enter a city_name :  Agra\n"
     ]
    },
    {
     "name": "stdout",
     "output_type": "stream",
     "text": [
      "Taj Mahal is the monument present in Agra\n"
     ]
    }
   ],
   "source": [
    "city_name=input(\"Enter a city_name : \")\n",
    "if city_name == \"Delhi\" :\n",
    "    print(\"Red Fort is the monument present in Delhi\")\n",
    "elif city_name == \"Agra\" :\n",
    "    print(\"Taj Mahal is the monument present in Agra\")\n",
    "elif city_name == \"Jaipur\":\n",
    "    print(\"Jai Mahal is the monument present in Jaipur\")\n",
    "else :\n",
    "    print(\"sorry we don't have any information about monuments\")\n",
    "        "
   ]
  },
  {
   "cell_type": "code",
   "execution_count": null,
   "id": "b61bd1f4-2585-40aa-8c42-84de3fa30143",
   "metadata": {},
   "outputs": [],
   "source": []
  },
  {
   "cell_type": "code",
   "execution_count": null,
   "id": "fcac32d6-25e5-49c4-b45d-f58a53e7f8a6",
   "metadata": {},
   "outputs": [],
   "source": []
  },
  {
   "cell_type": "markdown",
   "id": "19bf1727-d121-4556-94e6-8a0fb504e3b0",
   "metadata": {},
   "source": [
    "## 4.check how many times a given number can be divided by 3 before it is less than oer equal to 10 \n",
    "\n"
   ]
  },
  {
   "cell_type": "code",
   "execution_count": 5,
   "id": "51289aee-91fc-4b2c-b8ee-894940764188",
   "metadata": {},
   "outputs": [
    {
     "name": "stdin",
     "output_type": "stream",
     "text": [
      "Enter a number:  1000\n"
     ]
    },
    {
     "name": "stdout",
     "output_type": "stream",
     "text": [
      "The given number can be divided by 3 5 times before it is less than or equal to 10.\n"
     ]
    }
   ],
   "source": [
    "num = int(input(\"Enter a number: \"))\n",
    "count = 0\n",
    "\n",
    "while num > 10:\n",
    "    num /= 3\n",
    "    count += 1\n",
    "\n",
    "print(\"The given number can be divided by 3\", count, \"times before it is less than or equal to 10.\")\n",
    "\n"
   ]
  },
  {
   "cell_type": "code",
   "execution_count": null,
   "id": "28ab6d16-9034-48d7-9d0b-d45dc17c8de8",
   "metadata": {},
   "outputs": [],
   "source": []
  },
  {
   "cell_type": "markdown",
   "id": "85fa7711-2e5e-45cd-8fed-fbdc8d719b42",
   "metadata": {},
   "source": [
    "# 5.why and when to use while loop in python give a detailed description with example"
   ]
  },
  {
   "cell_type": "markdown",
   "id": "75d51a0c-9731-48f0-a041-073fc4bf7c45",
   "metadata": {},
   "source": [
    "### A while loop in Python is used to execute a set of statements repeatedly until a particular condition is met. The loop continues to execute as long as the condition is true. It is useful when you need to repeat a block of code based on some condition that is not known in advance, or when you need to keep looping until a certain condition is met.\n",
    "\n",
    "Here is an example of a while loop in Python that prints the numbers from 1 to 10:\n",
    "\n",
    "\n",
    "i = 1 \n",
    "\n",
    "while i <= 10:\n",
    "\n",
    "    print(i)\n",
    "    i += 1 \n",
    "    \n",
    "In this example, the loop starts by setting the variable 'i' to 1. The loop condition is 'i <= 10', which means that the loop will continue to execute as long as 'i' is less than or equal to 10. The loop body consists of a single statement that prints the value of 'i' and increments i by 1 in each iteration.\n",
    "\n",
    "When the loop runs, it will execute the print statement with 'i' equal to 1, then it will increment 'i' to 2 and check the condition again. The loop will continue to execute and print the values of 'i' until 'i' reaches 11, at which point the condition 'i <= 10' is false and the loop terminates."
   ]
  },
  {
   "cell_type": "code",
   "execution_count": null,
   "id": "8e656189-c658-4945-be0d-aba15a9c97cf",
   "metadata": {},
   "outputs": [],
   "source": []
  },
  {
   "cell_type": "markdown",
   "id": "b2503b1d-7e92-40c2-8484-27dc3002c2dc",
   "metadata": {},
   "source": [
    "## 6.use nested while loop to print 3 different pattern"
   ]
  },
  {
   "cell_type": "code",
   "execution_count": 6,
   "id": "788c2cb4-be96-43e3-ac18-f99db0a71383",
   "metadata": {},
   "outputs": [
    {
     "name": "stdout",
     "output_type": "stream",
     "text": [
      "*\n",
      "**\n",
      "***\n",
      "****\n",
      "*****\n",
      "\n"
     ]
    }
   ],
   "source": [
    "i = 1\n",
    "while i <= 5:\n",
    "    j = 1\n",
    "    while j <= i:\n",
    "        print(\"*\", end=\"\")\n",
    "        j += 1\n",
    "    print()\n",
    "    i += 1\n",
    "\n",
    "print()\n",
    "\n"
   ]
  },
  {
   "cell_type": "code",
   "execution_count": null,
   "id": "004f51c3-e205-49c7-aac2-9a166ea5c6bb",
   "metadata": {},
   "outputs": [],
   "source": []
  },
  {
   "cell_type": "code",
   "execution_count": 7,
   "id": "b47d54a1-1154-4cea-9297-31ccde052202",
   "metadata": {},
   "outputs": [
    {
     "name": "stdout",
     "output_type": "stream",
     "text": [
      "*****\n",
      "****\n",
      "***\n",
      "**\n",
      "*\n",
      "\n"
     ]
    }
   ],
   "source": [
    "i = 5\n",
    "while i >= 1:\n",
    "    j = 1\n",
    "    while j <= i:\n",
    "        print(\"*\", end=\"\")\n",
    "        j += 1\n",
    "    print()\n",
    "    i -= 1\n",
    "\n",
    "print()\n"
   ]
  },
  {
   "cell_type": "code",
   "execution_count": null,
   "id": "ac12cbb9-39dd-4765-9dff-66d15f71dff9",
   "metadata": {},
   "outputs": [],
   "source": []
  },
  {
   "cell_type": "code",
   "execution_count": 8,
   "id": "61899772-8c5f-480b-9f5c-9b082a1e5742",
   "metadata": {},
   "outputs": [
    {
     "name": "stdout",
     "output_type": "stream",
     "text": [
      "1\n",
      "12\n",
      "123\n",
      "1234\n",
      "12345\n"
     ]
    }
   ],
   "source": [
    "i = 1\n",
    "while i <= 5:\n",
    "    j = 1\n",
    "    while j <= i:\n",
    "        print(j, end=\"\")\n",
    "        j += 1\n",
    "    print()\n",
    "    i += 1\n"
   ]
  },
  {
   "cell_type": "code",
   "execution_count": null,
   "id": "26216ec2-3726-49a1-92a7-1f665312fda4",
   "metadata": {},
   "outputs": [],
   "source": []
  },
  {
   "cell_type": "code",
   "execution_count": null,
   "id": "b2dd02af-f1ca-40c6-a689-facca11bdcbf",
   "metadata": {},
   "outputs": [],
   "source": []
  },
  {
   "cell_type": "code",
   "execution_count": null,
   "id": "b33d80d5-43c2-4fd4-b7b5-973d899de40c",
   "metadata": {},
   "outputs": [],
   "source": []
  },
  {
   "cell_type": "code",
   "execution_count": null,
   "id": "1f65f1aa-4d5a-4ffb-b1d0-60a54da58f47",
   "metadata": {},
   "outputs": [],
   "source": []
  },
  {
   "cell_type": "markdown",
   "id": "5797e04d-f213-4fd9-bf56-d2d1141c0880",
   "metadata": {},
   "source": [
    "## 7.reverse a while loop to display numbers from 10 to 1"
   ]
  },
  {
   "cell_type": "code",
   "execution_count": 9,
   "id": "5d90ccaa-1c9b-4d8e-84c0-187c72aa39b2",
   "metadata": {},
   "outputs": [
    {
     "name": "stdout",
     "output_type": "stream",
     "text": [
      "10\n",
      "9\n",
      "8\n",
      "7\n",
      "6\n",
      "5\n",
      "4\n",
      "3\n",
      "2\n",
      "1\n"
     ]
    }
   ],
   "source": [
    "i = 10\n",
    "while i >= 1:\n",
    "    print(i)\n",
    "    i -= 1"
   ]
  },
  {
   "cell_type": "code",
   "execution_count": null,
   "id": "e576afe8-b7aa-4b54-804c-25c4639f09ac",
   "metadata": {},
   "outputs": [],
   "source": []
  },
  {
   "cell_type": "markdown",
   "id": "25c2b1bd-11c2-405b-9641-11e1caf05c78",
   "metadata": {},
   "source": [
    "## 8.reverse a while loop to display numbers from 10 to 1"
   ]
  },
  {
   "cell_type": "code",
   "execution_count": 10,
   "id": "246bdc72-6dff-42a4-a2b2-de3df1a23651",
   "metadata": {},
   "outputs": [
    {
     "name": "stdout",
     "output_type": "stream",
     "text": [
      "10\n",
      "9\n",
      "8\n",
      "7\n",
      "6\n",
      "5\n",
      "4\n",
      "3\n",
      "2\n",
      "1\n"
     ]
    }
   ],
   "source": [
    "i = 10\n",
    "while i >= 1:\n",
    "    print(i)\n",
    "    i -= 1"
   ]
  },
  {
   "cell_type": "code",
   "execution_count": null,
   "id": "b90e0e9d-f0ce-4785-bd5b-bcba00536c66",
   "metadata": {},
   "outputs": [],
   "source": []
  },
  {
   "cell_type": "code",
   "execution_count": null,
   "id": "61b1e323-d89d-4a14-83e4-c1d496f2a895",
   "metadata": {},
   "outputs": [],
   "source": []
  },
  {
   "cell_type": "code",
   "execution_count": null,
   "id": "45f67bba-fd3b-4499-a8cc-dd42448f0d62",
   "metadata": {},
   "outputs": [],
   "source": []
  }
 ],
 "metadata": {
  "kernelspec": {
   "display_name": "Python 3 (ipykernel)",
   "language": "python",
   "name": "python3"
  },
  "language_info": {
   "codemirror_mode": {
    "name": "ipython",
    "version": 3
   },
   "file_extension": ".py",
   "mimetype": "text/x-python",
   "name": "python",
   "nbconvert_exporter": "python",
   "pygments_lexer": "ipython3",
   "version": "3.10.8"
  }
 },
 "nbformat": 4,
 "nbformat_minor": 5
}
