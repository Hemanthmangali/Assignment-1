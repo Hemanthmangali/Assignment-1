{
 "cells": [
  {
   "cell_type": "markdown",
   "id": "7ef294ff-e22a-4998-b1e3-608a4b0e3084",
   "metadata": {},
   "source": [
    "## 1.Who developed python programming language?\n",
    "#### Python is a high-level, interpreted programming language that was first released in 1991. It was developed by Guido van Rossum, a computer programmer from the Netherlands. Van Rossum started working on Python as a hobby project in December 1989, and the first version of the language was released in February 1991. Since then, Python has become one of the most popular programming languages in the world, with a large and active community of users and developers. It is used for a wide range of applications, including web development, scientific computing, data analysis, artificial intelligence, and more. Python's design philosophy prioritizes code readability, which makes it a great choice for beginners and experienced developers alike.\n",
    "​\n"
   ]
  },
  {
   "cell_type": "code",
   "execution_count": null,
   "id": "cec771e1-b02f-4ec2-8101-4d316a130a28",
   "metadata": {},
   "outputs": [],
   "source": []
  },
  {
   "cell_type": "markdown",
   "id": "2caee3a9-5f03-438a-bdad-297d5704c5fd",
   "metadata": {},
   "source": [
    "# 2.which type of programming does python support?\n",
    "### Python is a versatile and high-level programming language that supports several programming paradigms, including:\n",
    "1.Object-Oriented Programming (OOP): Python provides features such as classes, objects, inheritance, and encapsulation, which allow for the creation of reusable and modular code.\n",
    "\n",
    "2.Functional Programming: Python supports functions as first-class objects, which can be assigned to variables, passed as arguments to other functions, and used in a functional programming style.\n",
    "\n",
    "3.Procedural Programming: Python allows for the use of procedural programming constructs such as loops, conditional statements, and procedures.\n",
    "\n",
    "4.Scripting: Python can be used as a scripting language, providing a simple and easy way to automate repetitive tasks, such as file processing and text manipulation.\n",
    "\n",
    "5.Dynamic Typing: Python has dynamic typing, which means that the type of a variable is determined at runtime, rather than at compile time. This can make the development process faster and more flexible.\n",
    "\n",
    "These features make Python a highly versatile language that can be used for a wide range of tasks and applications, and its ease of use and readability make it a popular choice for both beginners and experienced programmers.\n",
    "\n",
    "​"
   ]
  },
  {
   "cell_type": "code",
   "execution_count": null,
   "id": "481b1b9c-1c89-4688-ba9a-55516a01424d",
   "metadata": {},
   "outputs": [],
   "source": []
  },
  {
   "cell_type": "markdown",
   "id": "896ec72e-ad55-421f-a99d-8573846bc94a",
   "metadata": {},
   "source": [
    "## 3.Is python case sensitive when dealing with identifiers?\n",
    "#### Yes, Python is case sensitive when dealing with identifiers. An identifier is a name given to variables, functions, classes, and other objects in Python. In Python, the case of the letters in an identifier matters, and using the same identifier with a different case creates two separate entities. For example, the identifiers 'myVariable' and 'myvariable' would be considered two different variables in Python.\n",
    "It is considered a good practice to use descriptive names for identifiers, using CamelCase or snake_case to make the code easier to read and understand. In CamelCase, the first letter of each word is capitalized, while in snake_case, words are separated by underscores. For example, 'myVariable' would be written as 'my_variable' in snake_case.\n",
    "\n",
    "It's important to note that while Python is case sensitive, it is also a dynamically-typed language, which means that the type of a variable is determined at runtime, rather than at compile time. This allows for greater flexibility and ease of use in the development process, but also requires careful attention to naming conventions and naming conflicts.\n",
    "\n",
    "​"
   ]
  },
  {
   "cell_type": "code",
   "execution_count": null,
   "id": "dbe1ae44-ea1a-4fcd-a263-833be7988d45",
   "metadata": {},
   "outputs": [],
   "source": []
  },
  {
   "cell_type": "markdown",
   "id": "816f24a6-3be8-443f-aa13-356c473604fd",
   "metadata": {},
   "source": [
    "## 4.what is the correct extension of the python file?\n",
    "#### The correct extension for a Python file is '.py'. Python files typically have this extension and it is widely recognized by most text editors, Integrated Development Environments (IDEs), and operating systems as a file containing Python code. This extension allows developers to easily identify and open the file in order to edit, run, or execute the Python code within.\n",
    "​\n"
   ]
  },
  {
   "cell_type": "code",
   "execution_count": null,
   "id": "6665d1a3-108a-46d0-a0ee-ddbc09ae9063",
   "metadata": {},
   "outputs": [],
   "source": []
  },
  {
   "cell_type": "markdown",
   "id": "9e7e83c1-ceee-4c93-8753-2e503b2423c6",
   "metadata": {},
   "source": [
    "# 5.Is python code compiled or interpreted?\n",
    "#### Python code is interpreted, not compiled.\n",
    "In a compiled language like C or C++, source code is transformed into machine code before it is executed, and the process of transforming the source code into machine code is known as \"compilation.\"\n",
    "\n",
    "In contrast, interpreted languages like Python, source code is passed directly to an interpreter which executes the code directly, line by line. This means that the code is executed as written, and there is no separate compilation step. This can make the development and testing process faster, as changes to the code can be immediately tested without the need to recompile the entire program.\n",
    "\n",
    "However, interpreted code can be slower than compiled code because the interpreter must parse and execute each line of code every time it is run. On the other hand, compiled code is transformed into machine code, which is executed directly by the computer's processor, making it faster than interpreted code.\n",
    "\n",
    "​"
   ]
  },
  {
   "cell_type": "code",
   "execution_count": null,
   "id": "344daa1e-21db-4dc7-bc34-c2182eccaf6c",
   "metadata": {},
   "outputs": [],
   "source": []
  },
  {
   "cell_type": "markdown",
   "id": "531ee7e5-c3af-4204-b61f-a659a235935b",
   "metadata": {},
   "source": [
    "# 6.Name a few blocks of code used to define in python language?\n",
    "#### In Python, there are several blocks of code used to define various constructs, including:\n",
    "1.Function definition: A block of code that implements a specific task and can be reused throughout a program. Functions are defined using the 'def' keyword, followed by the function name, parameters, and a colon. The code inside the function is indented and is executed when the function is called.\n",
    "\n",
    "2.Class definition: A blueprint for creating objects. Classes are defined using the 'class' keyword, followed by the class name and a colon. The code inside the class is indented and defines the attributes and methods of the class.\n",
    "\n",
    "3.Conditional blocks: A block of code that is executed only if a certain condition is met. In Python, conditional blocks are defined using the 'if' keyword, followed by a condition and a colon. The code inside the block is indented and is executed if the condition is true.\n",
    "\n",
    "4.Loop blocks: A block of code that is executed repeatedly until a certain condition is met. In Python, loop blocks are defined using the for or 'while' keyword, followed by a condition and a colon. The code inside the loop is indented and is executed repeatedly until the condition is false.\n",
    "\n",
    "5.Try-except block: A block of code that is used to handle exceptions or errors that may occur in a program. In Python, try-except blocks are defined using the 'try' keyword, followed by a colon and the code that might raise an exception. An except block is used to catch the exception and handle it appropriately.\n",
    "\n",
    "These are some of the most common blocks of code used in Python programming, but there are many other constructs as well.\n",
    "\n",
    "​\n"
   ]
  },
  {
   "cell_type": "code",
   "execution_count": null,
   "id": "bad450e9-f684-445e-b35d-b70590b897c5",
   "metadata": {},
   "outputs": [],
   "source": []
  },
  {
   "cell_type": "markdown",
   "id": "1b7c29e9-6888-44a5-9cdf-0b15a3a9b1c9",
   "metadata": {},
   "source": [
    "## 7.State a character used to give single line comments in python?\n",
    "#### The character used to give single line comments in Python is the hash symbol (#).\n",
    "​\n",
    "​"
   ]
  },
  {
   "cell_type": "code",
   "execution_count": null,
   "id": "f6b2e5d4-f83c-42bf-b0e6-7ca57247ac2c",
   "metadata": {},
   "outputs": [],
   "source": []
  },
  {
   "cell_type": "markdown",
   "id": "fb6fae1b-c5c9-40b8-99f4-efb9594653cc",
   "metadata": {},
   "source": [
    "# 8.Mention functions which can help us to find the version of python that we are currently working on?\n",
    "#### There are two built-in functions in Python that you can use to determine the version of Python you are currently using:\n",
    "'sys.version' - This returns a string that contains information about the Python version you are using, including the release number, build date, and compiler used.\n",
    "\n",
    "For example: python code\n",
    "\n",
    "import sys\n",
    "\n",
    "print(sys.version)\n",
    "\n",
    "'sys.version_info' - This returns a named tuple that contains information about the Python version in a more structured format.\n",
    "\n",
    "For example: python code\n",
    "\n",
    "import sys\n",
    "\n",
    "print(sys.version_info)\n",
    "\n",
    "Both of these functions will give you the version of Python that you are currently working with, so you can use either one depending on your needs.\n",
    "\n",
    "​\n",
    "​"
   ]
  },
  {
   "cell_type": "code",
   "execution_count": null,
   "id": "a53279be-ed7f-47d1-9451-02b8156849e9",
   "metadata": {},
   "outputs": [],
   "source": []
  },
  {
   "cell_type": "code",
   "execution_count": null,
   "id": "0ba7cd85-6656-4e5e-a775-54a707940c39",
   "metadata": {},
   "outputs": [],
   "source": []
  },
  {
   "cell_type": "markdown",
   "id": "b929f20e-d842-4073-8616-70eae46fd218",
   "metadata": {},
   "source": [
    "\n",
    "# 9.Python supports the creation of anonymous function at runtime, Using a construct called\"lambda\" functions.\n",
    "#### A 'lambda' function is a small, anonymous function that is defined without a name. These functions are often used as inline functions, or as arguments to other functions. They can accept any number of arguments but can only have one expression. The expression is evaluated and returned when the function is called.\n",
    "\n",
    "Here is an example of a 'lambda' function in Python:\n",
    "\n",
    "sum = lambda a, b: a + b\n",
    "\n",
    "print(sum(10, 20))\n",
    "\n",
    "In this example, the 'lambda' function takes two arguments, 'a' and 'b', and returns their sum. The function is assigned to a variable called 'sum', which can be used like any other function.\n",
    "\n",
    "​\n",
    "​"
   ]
  },
  {
   "cell_type": "code",
   "execution_count": null,
   "id": "62ce25d1-2049-4caa-87dd-f7b0cbe1f988",
   "metadata": {},
   "outputs": [],
   "source": []
  },
  {
   "cell_type": "markdown",
   "id": "b44ebe4d-c0f9-4591-b1d5-fafddf350d8d",
   "metadata": {},
   "source": [
    "# 10.What does pip stands for python?\n",
    "#### \"pip\" stands for \"Pip Installs Packages.\" It is a package management system for Python that makes it easy to install and manage packages and libraries. With pip, you can easily install packages from the Python Package Index (PyPI) or from other indices, as well as from local or remote sources.\n",
    "For example, if you want to install the popular 'numpy' library for numerical computing, you can simply run the following command in your terminal or command prompt:\n",
    "\n",
    "pip install numpy\n",
    "\n",
    "pip allows you to manage the packages you have installed, upgrade them to the latest version, or remove them if they are no longer needed. It is an essential tool for any Python developer and is included with the standard Python distribution."
   ]
  },
  {
   "cell_type": "code",
   "execution_count": null,
   "id": "45a4d26e-1bb7-4f53-9ebe-60f3c9434e9e",
   "metadata": {},
   "outputs": [],
   "source": []
  },
  {
   "cell_type": "code",
   "execution_count": null,
   "id": "b1da9b01-b1e3-403a-8514-6ccddcf0aebf",
   "metadata": {},
   "outputs": [],
   "source": []
  },
  {
   "cell_type": "markdown",
   "id": "fabc2129-ad1a-46e8-a60d-7cfa2460b463",
   "metadata": {},
   "source": [
    "​\n",
    "# 11.Mention a few built-in functions in python?\n",
    "#### Python has a large number of built-in functions that you can use to perform various operations. Here are a few of the most commonly used built-in functions in Python:\n",
    "1.print() - This function is used to display text or the value of a variable on the screen.\n",
    "\n",
    "2.len() - This function returns the length of an object, such as a string, list, or tuple.\n",
    "\n",
    "3.type() - This function returns the type of an object.\n",
    "\n",
    "4.sum() - This function helps to sum the members of an iterable object.\n"
   ]
  },
  {
   "cell_type": "code",
   "execution_count": null,
   "id": "ae6a5fe0-d55e-4328-a935-570c0695ee67",
   "metadata": {},
   "outputs": [],
   "source": []
  },
  {
   "cell_type": "code",
   "execution_count": null,
   "id": "2edf2991-1f6a-413f-944b-4addb800279f",
   "metadata": {},
   "outputs": [],
   "source": []
  },
  {
   "cell_type": "markdown",
   "id": "626ea256-1078-420f-8320-e071a2dca000",
   "metadata": {},
   "source": [
    "# 12.What is the maximum possible length of an identifier in python?\n",
    "#### There is no specific maximum length for an identifier in Python, but there are some practical limits to how long an identifier can be.\n",
    "In general, the length of an identifier in Python is limited by the amount of memory available to the Python interpreter. This means that, in practice, the maximum length of an identifier will depend on the specific platform and configuration you are using.\n",
    "\n",
    "However, it's worth noting that while there is no strict limit, it is generally considered good practice to keep identifiers short and descriptive. This makes your code easier to read and understand, and also helps to prevent naming collisions with other identifiers in your code or in the libraries you are using.\n",
    "\n",
    "In summary, while there is no strict maximum length for an identifier in Python, it is a good idea to keep identifiers short and descriptive for readability and maintainability.\n"
   ]
  },
  {
   "cell_type": "code",
   "execution_count": null,
   "id": "5bf58e45-2d86-4990-aa14-45853dac95a1",
   "metadata": {},
   "outputs": [],
   "source": []
  },
  {
   "cell_type": "code",
   "execution_count": null,
   "id": "9817a52b-7137-47ca-b8a2-dcc807b01095",
   "metadata": {},
   "outputs": [],
   "source": []
  },
  {
   "cell_type": "markdown",
   "id": "ce91de8b-b587-4759-87b2-538fda5aa40b",
   "metadata": {},
   "source": [
    "# 13.What are the benefits of using python?\n",
    "#### Python is a popular and versatile programming language that offers many benefits to users. Some of the key benefits of using Python include:\n",
    "1.Easy to Learn and Use: Python has a straightforward and simple syntax, making it easy to learn and understand. This makes it a great choice for beginners, as well as for experienced programmers who want to get started quickly.\n",
    "\n",
    "2.Versatile: Python can be used for a wide range of tasks, including web development, scientific computing, data analysis, artificial intelligence, and more. This versatility makes it a popular choice for many industries and applications.\n",
    "\n",
    "3.Large Community: Python has a large and active community of users and developers who contribute to the language and its libraries. This community provides a wealth of resources, including tutorials, libraries, and tools, which make it easier to get started and solve problems.\n",
    "\n",
    "4.Extensive Libraries: Python has a large and comprehensive standard library, as well as many third-party libraries, which provide additional functionality and can be easily installed and used. This makes it easy to add new features to your code without having to write everything from scratch.\n",
    "\n",
    "5.Interoperable: Python can easily integrate with other programming languages and technologies, making it a great choice for projects that require interoperability.\n",
    "\n",
    "6.Good Performance: Python is known for its high-level abstractions and dynamic typing, which make it easy to write and maintain code. However, despite its high-level nature, Python also offers good performance, thanks to its optimized implementation and support for low-level programming when necessary.\n",
    "\n",
    "7.Good for Prototyping: Python's quick and easy-to-learn nature makes it a great choice for prototyping, where you need to quickly test out an idea or build a working prototype of a larger project.\n",
    "\n",
    "Overall, these benefits make Python a popular and widely-used programming language, and a great choice for many projects and applications.\n",
    "\n",
    "​"
   ]
  },
  {
   "cell_type": "code",
   "execution_count": null,
   "id": "dfcd2c54-7de1-4763-aad3-88a0d699e40b",
   "metadata": {},
   "outputs": [],
   "source": []
  },
  {
   "cell_type": "code",
   "execution_count": null,
   "id": "e1d58cfb-6647-40ab-9a10-9b5b3b6d9964",
   "metadata": {},
   "outputs": [],
   "source": []
  },
  {
   "cell_type": "markdown",
   "id": "74e2a9a2-46aa-4625-98e6-9fb318863061",
   "metadata": {},
   "source": [
    "​\n",
    "# 14.How is memory managed in python?\n",
    "#### Python uses a memory management system called reference counting to manage the memory used by objects in the system. The basic idea behind reference counting is to keep track of the number of references to each object in memory. When the reference count of an object reaches zero, the memory used by that object is automatically freed.\n",
    "In addition to reference counting, Python also uses a garbage collector to reclaim memory that is no longer being used by the program. The garbage collector works by periodically checking for objects in memory that are no longer accessible from the program, and freeing the memory used by those objects.\n",
    "\n",
    "Another important aspect of Python's memory management is its dynamic typing. Unlike languages like C and C++, Python does not require the programmer to explicitly allocate and deallocate memory for objects. Instead, memory is automatically allocated and deallocated as objects are created and destroyed during the execution of the program.\n",
    "\n",
    "Finally, it's worth noting that Python uses a virtual memory system, which allows it to access more memory than is physically available on the system. This allows Python to handle large data sets and perform complex computations, even on systems with limited physical memory.\n",
    "\n",
    "Overall, Python's memory management system is designed to be simple, efficient, and transparent to the programmer. This makes it easy to write and maintain code, while also providing good performance and memory usage.\n"
   ]
  },
  {
   "cell_type": "code",
   "execution_count": null,
   "id": "423ee7e3-6eb4-496c-b3a8-902d655cd489",
   "metadata": {},
   "outputs": [],
   "source": []
  },
  {
   "cell_type": "code",
   "execution_count": null,
   "id": "9197e2ee-df6d-496c-9f8b-2f5ca8093c50",
   "metadata": {},
   "outputs": [],
   "source": []
  },
  {
   "cell_type": "markdown",
   "id": "03463846-403e-40bd-bb0b-f25ebfff8884",
   "metadata": {},
   "source": [
    "# 15.How to install python on windows and set path variables?\n",
    "#### Installing Python on Windows and setting the path variables involves the following steps:\n",
    "1.Download the Python installer: Go to the Python website (https://www.python.org/downloads/) and download the latest version of Python for Windows.\n",
    "\n",
    "2.Run the installer: Double-click on the downloaded Python installer and follow the on-screen instructions to install Python on your system. Make sure to select the option to add Python to the PATH environment variable during the installation process.\n",
    "\n",
    "3.Check the installation: After the installation is complete, open a Command Prompt window and type 'python' to start the Python interpreter. If the installation was successful, you should see the Python prompt '>>>' indicating that the Python interpreter is ready for use.\n",
    "\n",
    "4.Set the PATH variable: If you did not select the option to add Python to the PATH environment variable during the installation process, you can set it manually. To do this, follow these steps:\n",
    "\n",
    "*Right-click on the Start menu and select System.\n",
    "\n",
    "*Click on Advanced system settings.\n",
    "\n",
    "*Click on the Advanced tab.\n",
    "\n",
    "*Click on Environment Variables.\n",
    "\n",
    "*Under System Variables, scroll down and find the Path variable, then click on Edit.\n",
    "\n",
    "*Add the path to the Python installation to the Path variable. For example, if you installed Python in the default location '(C:\\PythonXX)', you would add C:\\PythonXX\\ to the Path variable.\n",
    "\n",
    "5.Verify the PATH variable: Close and reopen the Command Prompt window, and then type 'python' to start the Python interpreter. If the Path variable was set correctly, you should be able to start the Python interpreter from any directory on your system.\n",
    "\n",
    "These are the basic steps to install Python on Windows and set the path variables. Once Python is installed, you can start using it to write and run your own Python scripts.\n",
    "\n",
    "​"
   ]
  },
  {
   "cell_type": "code",
   "execution_count": null,
   "id": "1bb30dc3-3c6d-49ce-8837-3682d4783873",
   "metadata": {},
   "outputs": [],
   "source": []
  },
  {
   "cell_type": "code",
   "execution_count": null,
   "id": "60fd1d00-2db5-4fca-83c8-b4baec3dd1f0",
   "metadata": {},
   "outputs": [],
   "source": []
  },
  {
   "cell_type": "markdown",
   "id": "0610dff3-17a3-4f5c-bf40-ac6c5f6c2993",
   "metadata": {},
   "source": [
    "# 16.Is indentation required in python?\n",
    "#### Yes, indentation is required in Python. In Python, indentation is used to delimit blocks of code, such as the bodies of functions, loops, and control structures. This makes the code easier to read and helps to enforce a consistent and readable style.\n",
    "In Python, the amount of indentation for a block of code is significant and must be consistent throughout the block. Typically, four spaces are used for each level of indentation, but you can use tabs or any other number of spaces as long as it's consistent within a block of code.\n",
    "\n",
    "For example, consider the following code that defines a simple function:\n",
    "\n",
    "def greet(name): print(\"Hello, \" + name + \"!\")\n",
    "\n",
    "In this code, the body of the 'greet' function is indented by four spaces. This indicates that the code inside the function is part of the same block, and it will be executed whenever the 'greet' function is called.\n",
    "\n",
    "In conclusion, indentation is an important aspect of the Python syntax, and it's required for writing correct and readable code in Python."
   ]
  },
  {
   "cell_type": "code",
   "execution_count": null,
   "id": "74f0d9fb-507c-4073-aafb-fe88fe3909d9",
   "metadata": {},
   "outputs": [],
   "source": []
  },
  {
   "cell_type": "code",
   "execution_count": null,
   "id": "f3c90cb9-48cb-4097-8d89-aa7f13f7ab3c",
   "metadata": {},
   "outputs": [],
   "source": []
  }
 ],
 "metadata": {
  "kernelspec": {
   "display_name": "Python 3 (ipykernel)",
   "language": "python",
   "name": "python3"
  },
  "language_info": {
   "codemirror_mode": {
    "name": "ipython",
    "version": 3
   },
   "file_extension": ".py",
   "mimetype": "text/x-python",
   "name": "python",
   "nbconvert_exporter": "python",
   "pygments_lexer": "ipython3",
   "version": "3.10.8"
  }
 },
 "nbformat": 4,
 "nbformat_minor": 5
}
