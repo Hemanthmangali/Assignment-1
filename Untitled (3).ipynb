{
 "cells": [
  {
   "cell_type": "code",
   "execution_count": null,
   "id": "e8710ca7-d436-4149-8dc8-792db350cb33",
   "metadata": {},
   "outputs": [],
   "source": []
  },
  {
   "cell_type": "markdown",
   "id": "6b4915e0-b225-481e-ac93-ec3fca561cb6",
   "metadata": {},
   "source": [
    "# 1.what are the characteristics of the tuples? is tuples immutable"
   ]
  },
  {
   "cell_type": "markdown",
   "id": "672b548d-8bb2-48eb-be46-4c74fb25b733",
   "metadata": {},
   "source": [
    "### Yes, tuples are immutable in Python, meaning that once they are created, their contents cannot be changed. Here are some of the main characteristics of tuples:\n",
    "\n",
    "Tuples are ordered: the items in a tuple are stored in a specific order, and can be accessed by their index.\n",
    "\n",
    "Tuples are defined using parentheses: to create a tuple, you enclose a sequence of values in parentheses, separated by commas.\n",
    "\n",
    "Tuples can contain any type of data: you can put any type of data into a tuple, including numbers, strings, booleans, and other tuples.\n",
    "\n",
    "Tuples can be indexed and sliced: like lists, tuples can be accessed using indexing and slicing. You use square brackets to access a specific item in a tuple, and the colon ':' to slice a tuple.\n",
    "\n",
    "Tuples can be used as keys in dictionaries: because tuples are immutable, they can be used as keys in dictionaries, whereas lists cannot.\n",
    "\n",
    "Tuples are faster than lists: because tuples are immutable, Python can optimize them for faster performance. In general, tuples are faster than lists for certain operations, such as accessing items by index.\n",
    "\n",
    "Overall, tuples are useful when you need to group together a sequence of values that should not be changed. For example, you might use a tuple to represent a date, where the year, month, and day are stored as separate values. Because the date should not be changed once it is created, a tuple is a good choice for this purpose.\n",
    "\n",
    "\n",
    "\n"
   ]
  },
  {
   "cell_type": "code",
   "execution_count": null,
   "id": "1a6ad0d3-5683-434f-a720-177aa79220a3",
   "metadata": {},
   "outputs": [],
   "source": []
  },
  {
   "cell_type": "code",
   "execution_count": null,
   "id": "a2ceb450-1cdd-4279-92d0-0395dda103f8",
   "metadata": {},
   "outputs": [],
   "source": []
  },
  {
   "cell_type": "markdown",
   "id": "572ba876-b430-4caf-b862-8c91f4fd4ed8",
   "metadata": {},
   "source": [
    "## 2.what are the two tuple methods  in python? give an example of each method. Give a reason why tuples have only two in built in methods compared to lists"
   ]
  },
  {
   "cell_type": "markdown",
   "id": "b09858ad-dc62-4c5f-bf49-abf93d8b6cd1",
   "metadata": {},
   "source": [
    "In Python, there are two built-in tuple methods:\n",
    "\n",
    "count(): This method returns the number of times a specified value appears in a tuple.\n",
    "Example:\n",
    "\n",
    "\n",
    "t = (1, 2, 3, 4, 3, 2, 1)\n",
    "\n",
    "count_2 = t.count(2)\n",
    "\n",
    "print(count_2)      # Output: 2\n",
    "\n",
    "In this example, we define a tuple t with seven elements. We use the count() method to count the number of times the value 2 appears in the tuple. The method returns the value 2, since 2 appears twice in the tuple.\n",
    "\n",
    "index(): This method returns the index of the first occurrence of a specified value in a tuple.\n",
    "Example:\n",
    "\n",
    "\n",
    "t = (1, 2, 3, 4, 3, 2, 1)\n",
    "\n",
    "index_4 = t.index(4)\n",
    "\n",
    "print(index_4)    # Output: 3  \n",
    "\n",
    "In this example, we use the index() method to find the index of the first occurrence of the value 4 in the tuple t. The method returns the value 3, since 4 appears at index 3 in the tuple.\n",
    "\n",
    "Tuples have only two built-in methods (count() and index()) compared to lists because tuples are immutable, meaning they cannot be changed after they are created. Therefore, there is no need for methods that modify the tuple in place, such as append() or pop(), as there are with lists. Because tuples are immutable, they are more efficient for certain operations, such as accessing items by index, and can be used in situations where you need a sequence of values that should not be changed.\n",
    "\n",
    "\n",
    "\n"
   ]
  },
  {
   "cell_type": "code",
   "execution_count": null,
   "id": "dbc921a3-b2f4-4ab8-b209-30c97b6e8ad1",
   "metadata": {},
   "outputs": [],
   "source": []
  },
  {
   "cell_type": "code",
   "execution_count": null,
   "id": "a426e40a-238e-4010-99b8-46e4ef39544d",
   "metadata": {},
   "outputs": [],
   "source": []
  },
  {
   "cell_type": "markdown",
   "id": "af3c2283-0738-4e21-ae32-20dcdd0427e9",
   "metadata": {},
   "source": [
    "# Q3. Which collection datatypes in python do not allow duplicate items? Write a code using a set to remove duplicates from the given list.\n",
    "List = [1, 1, 1, 2, 1, 3, 1, 4, 2, 1, 2, 2, 2, 3, 2, 4, 3, 1, 3, 2, 3, 3, 3, 4, 4, 1, 4, 2, 4, 3, 4, 4]"
   ]
  },
  {
   "cell_type": "markdown",
   "id": "1dfa6547-875c-4fb5-933e-15b35a5e0242",
   "metadata": {},
   "source": [
    "In Python, the Set collection datatype does not allow duplicate items. We can use a Set to remove duplicates from a list.\n",
    "\n",
    "Here's the code to remove duplicates from the given list using a Set:\n",
    "\n",
    "my_list = [1, 1, 1, 2, 1, 3, 1, 4, 2, 1, 2, 2, 2, 3, 2, 4, 3, 1, 3, 2, 3, 3, 3, 4, 4, 1, 4, 2, 4, 3, 4, 4]\n",
    "\n",
    "unique_items = set(my_list)\n",
    "\n",
    "result_list = list(unique_items)\n",
    "\n",
    "print(result_list)\n",
    "Output:  [1, 2, 3, 4]\n",
    "\n",
    "\n",
    "In the above code, we first create a Set called unique_items from the list my_list to remove duplicates. We then convert this Set back to a list using the list() function and store the result in result_list. Finally, we print result_list, which contains only the unique items from the original list.\n",
    "\n",
    "\n",
    "\n",
    "\n"
   ]
  },
  {
   "cell_type": "code",
   "execution_count": null,
   "id": "7b50d37b-fbec-421f-b699-e449e9694ce6",
   "metadata": {},
   "outputs": [],
   "source": []
  },
  {
   "cell_type": "code",
   "execution_count": null,
   "id": "1f6d83e8-8dd7-41ff-ae73-1de36e00ae94",
   "metadata": {},
   "outputs": [],
   "source": []
  },
  {
   "cell_type": "markdown",
   "id": "471a1c31-8138-4631-aeb9-bf2e17812c2a",
   "metadata": {},
   "source": [
    "# Q4. Explain the difference between the union() and update() methods for a set. Give an example of each method."
   ]
  },
  {
   "cell_type": "markdown",
   "id": "a386b9b2-c063-49cc-84a4-5c16b2a7c84f",
   "metadata": {},
   "source": [
    "Both union() and update() methods in Python sets are used to combine two or more sets. However, there is a subtle difference between these two methods.\n",
    "\n",
    "The union() method returns a new set that contains all the unique elements from all the sets that are being combined. The original sets remain unchanged.\n",
    "\n",
    "Here's an example of the union() method:"
   ]
  },
  {
   "cell_type": "code",
   "execution_count": 1,
   "id": "029df5a6-4dc7-4f9b-8e69-0d1ea41c886e",
   "metadata": {},
   "outputs": [
    {
     "name": "stdout",
     "output_type": "stream",
     "text": [
      "{1, 2, 3, 4, 5, 6, 7}\n"
     ]
    }
   ],
   "source": [
    "set1 = {1, 2, 3}\n",
    "set2 = {3, 4, 5}\n",
    "set3 = {5, 6, 7}\n",
    "\n",
    "result_set = set1.union(set2, set3)\n",
    "\n",
    "print(result_set)\n"
   ]
  },
  {
   "cell_type": "code",
   "execution_count": null,
   "id": "2081ba40-01c4-42cf-81c8-84366b5200dc",
   "metadata": {},
   "outputs": [],
   "source": []
  },
  {
   "cell_type": "markdown",
   "id": "088271ce-9bd3-4819-be51-eba7b8e9e487",
   "metadata": {},
   "source": [
    "On the other hand, the update() method modifies the set in place by adding all the unique elements from one or more sets to it. The original set is updated with the new elements.\n",
    "\n",
    "Here's an example of the update() method:\n",
    "\n"
   ]
  },
  {
   "cell_type": "code",
   "execution_count": 2,
   "id": "9b09724c-28eb-4141-8b5a-d4ad492a14ab",
   "metadata": {},
   "outputs": [
    {
     "name": "stdout",
     "output_type": "stream",
     "text": [
      "{1, 2, 3, 4, 5, 6, 7}\n"
     ]
    }
   ],
   "source": [
    "set1 = {1, 2, 3}\n",
    "set2 = {3, 4, 5}\n",
    "set3 = {5, 6, 7}\n",
    "\n",
    "set1.update(set2, set3)\n",
    "\n",
    "print(set1)\n"
   ]
  },
  {
   "cell_type": "code",
   "execution_count": null,
   "id": "910f03d5-51a6-4c96-b5bd-a6a6808ef455",
   "metadata": {},
   "outputs": [],
   "source": []
  },
  {
   "cell_type": "code",
   "execution_count": null,
   "id": "21e50cb9-603a-47e9-97d8-5b4cd00d5092",
   "metadata": {},
   "outputs": [],
   "source": []
  },
  {
   "cell_type": "markdown",
   "id": "21bd0c96-5a14-4ef3-97ce-6e0a21987e36",
   "metadata": {},
   "source": [
    "# Q5. What is a dictionary? Give an example. Also, state whether a dictionary is ordered or unordered."
   ]
  },
  {
   "cell_type": "markdown",
   "id": "306053d0-1350-4097-a871-d1a21ec5980b",
   "metadata": {},
   "source": [
    "In Python, a dictionary is a collection datatype that stores data in the form of key-value pairs. A dictionary is also sometimes called an associative array or a hash table.\n",
    "\n",
    "In a dictionary, each key is associated with a value, and the key-value pairs are separated by a colon (:). The keys must be unique, immutable, and hashable (e.g., strings, integers, tuples), while the values can be of any data type (e.g., strings, integers, lists, sets, other dictionaries).\n",
    "\n",
    "Here's an example of a dictionary:"
   ]
  },
  {
   "cell_type": "code",
   "execution_count": 1,
   "id": "41af45de-0e4b-48dd-b987-df96799328f2",
   "metadata": {},
   "outputs": [
    {
     "name": "stdout",
     "output_type": "stream",
     "text": [
      "10\n"
     ]
    }
   ],
   "source": [
    "my_dict = {\"apple\": 10, \"banana\": 20, \"orange\": 30}\n",
    "\n",
    "print(my_dict[\"apple\"])"
   ]
  },
  {
   "cell_type": "code",
   "execution_count": null,
   "id": "a4a5a1ad-d846-4bbd-9050-9c949eaf68f9",
   "metadata": {},
   "outputs": [],
   "source": []
  },
  {
   "cell_type": "markdown",
   "id": "88e8bac0-fc75-451f-8c66-95de9dff54ea",
   "metadata": {},
   "source": [
    "A dictionary is an unordered collection in Python, which means that the order of the items is not guaranteed. However, starting from Python 3.7, dictionaries are guaranteed to maintain the insertion order of their items. This means that the order of items is maintained based on the order in which they were added to the dictionary. If you're using an older version of Python, dictionaries are still considered unordered.\n",
    "\n",
    "\n",
    "\n"
   ]
  },
  {
   "cell_type": "code",
   "execution_count": null,
   "id": "b01cfd56-b94f-4718-bddc-7d4e5070b638",
   "metadata": {},
   "outputs": [],
   "source": []
  },
  {
   "cell_type": "code",
   "execution_count": null,
   "id": "4bec1cae-b14b-42f7-ada0-d2f04847a736",
   "metadata": {},
   "outputs": [],
   "source": []
  },
  {
   "cell_type": "markdown",
   "id": "719536b8-6651-4353-8da6-daec7cd17df9",
   "metadata": {},
   "source": [
    "# Q6. Can we create a nested dictionary? If so, please give an example by creating a simple one-level nested dictionary."
   ]
  },
  {
   "cell_type": "markdown",
   "id": "eae8e777-0b07-4c1f-aec9-887d86dbc558",
   "metadata": {},
   "source": [
    "Yes, we can create a nested dictionary in Python. A nested dictionary is a dictionary within another dictionary. In other words, the values in a dictionary can be other dictionaries.\n",
    "\n",
    "Here's an example of a simple one-level nested dictionary:"
   ]
  },
  {
   "cell_type": "code",
   "execution_count": 2,
   "id": "168b1391-0b8b-4ffa-97d9-165cc50243a3",
   "metadata": {},
   "outputs": [
    {
     "name": "stdout",
     "output_type": "stream",
     "text": [
      "Alice\n",
      "40\n"
     ]
    }
   ],
   "source": [
    "my_dict = {\"person1\": {\"name\": \"Alice\", \"age\": 30}, \"person2\": {\"name\": \"Bob\", \"age\": 40}}\n",
    "\n",
    "print(my_dict[\"person1\"][\"name\"]) \n",
    "print(my_dict[\"person2\"][\"age\"]) "
   ]
  },
  {
   "cell_type": "markdown",
   "id": "d2888628-9dae-4468-a746-c9cbbbb81d78",
   "metadata": {},
   "source": [
    "In the above code, we have a dictionary called my_dict with two key-value pairs. The values of each key-value pair are dictionaries themselves. The nested dictionaries contain information about a person's name and age.\n",
    "\n",
    "We can access the nested dictionary values using the square bracket notation as shown in the print statements. To access the value of \"name\" for \"person1\", we use the keys \"person1\" and \"name\" to navigate through the nested dictionary. Similarly, we can access the value of \"age\" for \"person2\".\n",
    "\n",
    "\n",
    "\n"
   ]
  },
  {
   "cell_type": "code",
   "execution_count": null,
   "id": "2fdec1d4-f38e-4061-a6e1-d7156b37fbf1",
   "metadata": {},
   "outputs": [],
   "source": []
  },
  {
   "cell_type": "code",
   "execution_count": null,
   "id": "59afdf16-aa51-4db6-b0b8-c0b0a1ccd914",
   "metadata": {},
   "outputs": [],
   "source": []
  }
 ],
 "metadata": {
  "kernelspec": {
   "display_name": "Python 3 (ipykernel)",
   "language": "python",
   "name": "python3"
  },
  "language_info": {
   "codemirror_mode": {
    "name": "ipython",
    "version": 3
   },
   "file_extension": ".py",
   "mimetype": "text/x-python",
   "name": "python",
   "nbconvert_exporter": "python",
   "pygments_lexer": "ipython3",
   "version": "3.10.8"
  }
 },
 "nbformat": 4,
 "nbformat_minor": 5
}
